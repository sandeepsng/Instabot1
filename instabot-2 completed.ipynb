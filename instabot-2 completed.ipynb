{
 "cells": [
  {
   "cell_type": "markdown",
   "metadata": {},
   "source": [
    "# Instabot project (Part:2)"
   ]
  },
  {
   "cell_type": "code",
   "execution_count": 35,
   "metadata": {},
   "outputs": [],
   "source": [
    "from selenium import webdriver\n",
    "\n",
    "driver=webdriver.Chrome(executable_path=\"/Users/Sandeep/chromedriver\")\n",
    "\n",
    "driver.get(\"http://www.instagram.com\")"
   ]
  },
  {
   "cell_type": "markdown",
   "metadata": {},
   "source": [
    "## Function for Login to instagram"
   ]
  },
  {
   "cell_type": "code",
   "execution_count": 36,
   "metadata": {},
   "outputs": [],
   "source": [
    "import time\n",
    "def login_insta(username,password):\n",
    "    \n",
    "#     finding box to input username\n",
    "    userbox=driver.find_element_by_name(\"username\")\n",
    "    userbox.click()\n",
    "    \n",
    "#     sending username as text\n",
    "    userbox.send_keys(username)\n",
    "    \n",
    "#     finding input box for password\n",
    "    password_box=driver.find_element_by_name(\"password\")\n",
    "    \n",
    "#     sending password as text\n",
    "    password_box.send_keys(password)\n",
    "\n",
    "#     submitting username and password\n",
    "    password_box.submit()\n",
    "    \n",
    "    time.sleep(3)\n",
    "    \n",
    "#     Checking if username password are correct and and are we logged in\n",
    "    try:\n",
    "        instagram_heading=driver.find_element_by_xpath(\"//h1[@class='NXVPg Szr5J  coreSpriteLoggedOutWordmark']\")\n",
    "        print(\"Please check your username and password\")\n",
    "        driver.refresh()\n",
    "        ans=\"ERROR\"\n",
    "        return ans\n",
    "    except:\n",
    "        print(\"Welcome\",username)\n",
    "        time.sleep(3)\n",
    "        \n",
    "        #for handelling \"TURN ON NOTIFICATION BOX\" if any\n",
    "        try:\n",
    "            close_notification_box=driver.find_element_by_xpath(\"//button[@class='aOOlW   HoLwm ']\")\n",
    "            close_notification_box.click()\n",
    "        except:\n",
    "            None\n",
    "#         for handeling popup to save login credentials (i click on not now)\n",
    "        try:\n",
    "            close_notification_box=driver.find_element_by_xpath(\"//button[@class='sqdOP yWX7d    y3zKF     ']\")\n",
    "            close_notification_box.click()\n",
    "        except:\n",
    "            None\n",
    "            \n",
    "            \n",
    "        #for handelling \"TURN ON NOTIFICATION BOX\" if it occurs after save dialog\n",
    "        try:\n",
    "            close_notification_box=driver.find_element_by_xpath(\"//button[@class='aOOlW   HoLwm ']\")\n",
    "            close_notification_box.click()\n",
    "        except:\n",
    "            None\n",
    "        ans=\"SUCCESS\"\n",
    "        print(ans)\n",
    "        "
   ]
  },
  {
   "cell_type": "code",
   "execution_count": 37,
   "metadata": {},
   "outputs": [
    {
     "name": "stdout",
     "output_type": "stream",
     "text": [
      "Welcome sandeepsng30@gmail.com\n",
      "SUCCESS\n"
     ]
    }
   ],
   "source": [
    "login_insta(\"sandeepsng30@gmail.com\",\"akshardham\")\n"
   ]
  },
  {
   "cell_type": "markdown",
   "metadata": {},
   "source": [
    "# TASK 8"
   ]
  },
  {
   "cell_type": "markdown",
   "metadata": {},
   "source": [
    "# TASK 8: Now your friend has followed a lot of different food bloggers, he needs to analyse the habits of these bloggers.\n",
    "1. From the list of instagram handles you obtained when you searched ‘food’ in previous project. Open the first 10 handles and find the top 5 which have the highest number of followers\n",
    "2. Now Find the number of posts these handles have done in the previous 3 days.\n",
    "3. Depict this information using a suitable graph."
   ]
  },
  {
   "cell_type": "markdown",
   "metadata": {},
   "source": [
    "## Function to extract first 10 username related to \"Food\""
   ]
  },
  {
   "cell_type": "code",
   "execution_count": 38,
   "metadata": {},
   "outputs": [],
   "source": [
    "def food_related_usernames():\n",
    "    \n",
    "#     locatig search box and clicking on it to activate\n",
    "    search_box=driver.find_element_by_xpath(\"//div[@class='pbgfb Di7vw ']\")\n",
    "    search_box.click()\n",
    "    \n",
    "#     waiting for page to load\n",
    "    time.sleep(2)\n",
    "\n",
    "#     locatig search box input\n",
    "    search__input=driver.find_element_by_xpath(\"//input[@class='XTCLo x3qfX focus-visible']\")\n",
    "\n",
    "#     sending search query i.e \"food\" to the search box\n",
    "    search__input.send_keys(\"food\")\n",
    "    \n",
    "#     waiting for dialog box with username and hashtags list to arrive\n",
    "    time.sleep(4)\n",
    "\n",
    "#     locating the dialog box\n",
    "    drop_down=driver.find_element_by_xpath(\"//div[@class='fuqBx']\")\n",
    "\n",
    "#     converting the data to text to extract list of usernames\n",
    "    data=drop_down.get_attribute(\"innerHTML\")\n",
    "\n",
    "    \n",
    "    \n",
    "        ############################# DATA CLEANING STARTS HERE ###################################\n",
    "                            \n",
    "#     for seperating each individual elment of grid/list\n",
    "    l=data.split(\"<a\")\n",
    "\n",
    "#     creating a new list discarding all the hash tags\n",
    "    new_l=[]\n",
    "    for e in l:\n",
    "        if \"explore/\" in e or len(e)==0:     #for eliminating hashtags and empty string \n",
    "#                                                 created due to split(one empty at last)) \n",
    "            None\n",
    "        else:\n",
    "            new_l.append(e)\n",
    "\n",
    "    \n",
    "#     this function discard all uneccesary text such as tags/ classes etc\n",
    "    def clean(each):\n",
    "        start_ind=each.index(\"Ap253\")\n",
    "        valuable=each[start_ind+7:]\n",
    "        end_ind=valuable.index(\"<\")\n",
    "        absolute=valuable[:end_ind]\n",
    "        return absolute\n",
    "\n",
    "\n",
    "    food_usernames=[]\n",
    "    \n",
    "#     iterating over each element created by split at passing it to cleaning function\n",
    "    for j in new_l:\n",
    "        single_user=clean(j)\n",
    "        food_usernames.append(single_user)\n",
    "        \n",
    "    result=food_usernames[:10]\n",
    "    return result"
   ]
  },
  {
   "cell_type": "code",
   "execution_count": 39,
   "metadata": {},
   "outputs": [],
   "source": [
    "first10_usernames=food_related_usernames()"
   ]
  },
  {
   "cell_type": "code",
   "execution_count": 44,
   "metadata": {},
   "outputs": [
    {
     "data": {
      "text/plain": [
       "['foodtalkindia',\n",
       " 'foodfashionflipflops',\n",
       " 'foodie_incarnate',\n",
       " 'yourfoodlab',\n",
       " 'food_hunt_at_delhi',\n",
       " 'lockdown_food_contest',\n",
       " 'food',\n",
       " 'dilsefoodie',\n",
       " 'buzzfeedfood',\n",
       " 'foodconnectindia']"
      ]
     },
     "execution_count": 44,
     "metadata": {},
     "output_type": "execute_result"
    }
   ],
   "source": [
    "first10_usernames"
   ]
  },
  {
   "cell_type": "markdown",
   "metadata": {},
   "source": [
    "## continue as it is"
   ]
  },
  {
   "cell_type": "markdown",
   "metadata": {},
   "source": [
    "# The function below finds the 5 most followed pages among the 10 pages extracted by the previous function"
   ]
  },
  {
   "cell_type": "code",
   "execution_count": 48,
   "metadata": {},
   "outputs": [],
   "source": [
    "def top_5_followed(first_ten):\n",
    "    #creating a dictionary with number of follwers as keys and their usernames as values\n",
    "    follower_dic={}\n",
    "    \n",
    "    #clearing search box for fresh start\n",
    "    delete_search=driver.find_element_by_xpath(\"//div[@class='aIYm8 coreSpriteSearchClear']\")\n",
    "    delete_search.click()\n",
    "    \n",
    "    #iterating over all 10 usernames and collecting their follower count\n",
    "    for i in first_ten:\n",
    "\n",
    "        #locating search box and clicking on it\n",
    "        search_box=driver.find_element_by_xpath(\"//div[@class='pbgfb Di7vw ']\")\n",
    "        search_box.click()\n",
    "\n",
    "        #activating the search boox sending username to the search box\n",
    "        search__input=driver.find_element_by_xpath(\"//input[@class='XTCLo x3qfX focus-visible']\")\n",
    "        search__input.send_keys(i)\n",
    "        time.sleep(3)\n",
    "        \n",
    "        try:\n",
    "            href_link=\"//a[@href='/\"+i+\"/']\"\n",
    "\n",
    "            # opening desired profile \n",
    "            desired_profile=driver.find_element_by_xpath(href_link)\n",
    "            desired_profile.click()\n",
    "\n",
    "        except:\n",
    "            \n",
    "            #try clause fails in some cases for example:\"talesofourfood\"\n",
    "            #opening desired profile\n",
    "            desired_profile2=driver.find_element_by_class_name(\"z556c\")\n",
    "            desired_profile2.click()\n",
    "\n",
    "        time.sleep(2)\n",
    "        #searching for the \"followers\" button and extracting text from it\n",
    "        follower_tab=driver.find_element_by_partial_link_text(\"followers\").text\n",
    "        \n",
    "                   ##  cleaning text to get the count of followers   ##\n",
    "\n",
    "\n",
    "        follow_split=follower_tab.split(\" \")\n",
    "        raw_number=follow_split[0]\n",
    "\n",
    "        if \",\" in raw_number:\n",
    "            raw_number=int(raw_number.replace(\",\",\"\"))\n",
    "        elif \"k\" in raw_number:\n",
    "            raw_number=raw_number.replace(\"k\",\"\")\n",
    "            raw_number=int(float(raw_number)*1000)\n",
    "        elif \"m\" in raw_number:\n",
    "            raw_number=raw_number.replace(\"m\",\"\")\n",
    "            raw_number=int(float(raw_number)*1000000)\n",
    "\n",
    "\n",
    "        #adding to the dictionary\n",
    "        follower_dic[int(raw_number)]=i\n",
    "\n",
    "        driver.back()\n",
    "        time.sleep(3)\n",
    "    \n",
    "    \n",
    "    top_5=sorted(follower_dic,reverse=True)[:5]\n",
    "    \n",
    "    top_5_usernames=[]\n",
    "    top_5_followers=[]\n",
    "    for each in top_5:\n",
    "        top_5_usernames.append(follower_dic[each])\n",
    "        top_5_followers.append(each)\n",
    "        \n",
    "    return top_5_usernames,top_5_followers\n",
    "    "
   ]
  },
  {
   "cell_type": "code",
   "execution_count": 49,
   "metadata": {},
   "outputs": [],
   "source": [
    "top_5_profiles,top_5_follower_count=top_5_followed(first10_usernames)"
   ]
  },
  {
   "cell_type": "code",
   "execution_count": 50,
   "metadata": {},
   "outputs": [
    {
     "data": {
      "text/plain": [
       "['buzzfeedfood',\n",
       " 'yourfoodlab',\n",
       " 'dilsefoodie',\n",
       " 'foodtalkindia',\n",
       " 'foodie_incarnate']"
      ]
     },
     "execution_count": 50,
     "metadata": {},
     "output_type": "execute_result"
    }
   ],
   "source": [
    "top_5_profiles"
   ]
  },
  {
   "cell_type": "code",
   "execution_count": 51,
   "metadata": {},
   "outputs": [
    {
     "data": {
      "text/plain": [
       "[3700000, 1200000, 471000, 296000, 193000]"
      ]
     },
     "execution_count": 51,
     "metadata": {},
     "output_type": "execute_result"
    }
   ],
   "source": [
    "top_5_follower_count"
   ]
  },
  {
   "cell_type": "markdown",
   "metadata": {},
   "source": [
    "### This function below gives us the list of posts from these pages within last 3 days"
   ]
  },
  {
   "cell_type": "code",
   "execution_count": 52,
   "metadata": {},
   "outputs": [],
   "source": [
    "def find_count_of_post(top_5_profiles):\n",
    "    post_count_list=[]\n",
    "    \n",
    "    for i in top_5_profiles:\n",
    "\n",
    "        #locating search box and clicking on it\n",
    "        search_box=driver.find_element_by_xpath(\"//div[@class='pbgfb Di7vw ']\")\n",
    "        search_box.click()\n",
    "\n",
    "        #activating the search boox sending username to the search box\n",
    "        search__input=driver.find_element_by_xpath(\"//input[@class='XTCLo x3qfX focus-visible']\")\n",
    "        search__input.send_keys(i)\n",
    "\n",
    "        time.sleep(3)\n",
    "        \n",
    "        \n",
    "        try:\n",
    "            href_link=\"//a[@href='/\"+i+\"/']\"\n",
    "\n",
    "            # opening desired profile \n",
    "            desired_profile=driver.find_element_by_xpath(href_link)\n",
    "            desired_profile.click()\n",
    "\n",
    "        except:\n",
    "            \n",
    "            #try clause fails in some cases for example:\"talesofourfood\"\n",
    "            #opening desired profile\n",
    "            desired_profile2=driver.find_element_by_class_name(\"z556c\")\n",
    "            desired_profile2.click()\n",
    "\n",
    "        time.sleep(3)\n",
    "        \n",
    "        #searching for the first post and opening it in slidshow mode by clicking on it\n",
    "    \n",
    "        open_post=driver.find_element_by_xpath(\"//div[@class='eLAPa']\")\n",
    "        open_post.click()\n",
    "        time.sleep(3)\n",
    "        \n",
    "        #initializing count of post for each username to \"0\"\n",
    "        count=0\n",
    "        while True:\n",
    "            \n",
    "            #searching for the time stamp of posts such as \"3 HOURS AGO\" and extracting in text format\n",
    "            post_time=driver.find_element_by_xpath(\"//a[@class='c-Yi7']\").text\n",
    "            \n",
    "            if \"SECOND\" in post_time:\n",
    "                count+=1\n",
    "            elif \"MINUTE\" in post_time:\n",
    "                count+=1\n",
    "        \n",
    "            elif \"HOUR\" in post_time:\n",
    "                count+=1\n",
    "\n",
    "            elif \"DAY\" in post_time:\n",
    "                #To handle cases to segregate posts posted before 3 days count them\n",
    "                list_split=post_time.split(\" \")\n",
    "                if int(list_split[0])<3:\n",
    "                    count+=1\n",
    "                else:\n",
    "                    \n",
    "                    #if posted more than 3 days ago them breaking the loop and stop counting\n",
    "                    break\n",
    "            else:\n",
    "                break\n",
    "                    \n",
    "            #searching for next button in slidshow view and clicking on it\n",
    "            next_button=driver.find_element_by_xpath(\"//a[@class=' _65Bje  coreSpriteRightPaginationArrow']\")\n",
    "            next_button.click()\n",
    "\n",
    "            time.sleep(3)\n",
    "        time.sleep(2)\n",
    "        #After counting for a particular username is stoped we search for  close button (cross mark) of slidhshoe mode and click on it\n",
    "        close_button=driver.find_element_by_xpath(\"//div[@class='                    Igw0E     IwRSH      eGOV_         _4EzTm                                                                                  BI4qX            qJPeX            fm1AK   TxciK yiMZG']\")\n",
    "        close_button.click()\n",
    "        \n",
    "        \n",
    "        #Append the count of post to the list\n",
    "        post_count_list.append(count)\n",
    "        print(i,count)\n",
    "        time.sleep(3)\n",
    "    \n",
    "    #returning count of posts in the same order as the username supplied\n",
    "    return post_count_list"
   ]
  },
  {
   "cell_type": "code",
   "execution_count": 54,
   "metadata": {},
   "outputs": [],
   "source": []
  },
  {
   "cell_type": "code",
   "execution_count": 55,
   "metadata": {},
   "outputs": [
    {
     "name": "stdout",
     "output_type": "stream",
     "text": [
      "buzzfeedfood 0\n",
      "yourfoodlab 3\n",
      "dilsefoodie 3\n",
      "foodtalkindia 5\n",
      "foodie_incarnate 4\n"
     ]
    }
   ],
   "source": [
    "count_posts=find_count_of_post(top_5_profiles)"
   ]
  },
  {
   "cell_type": "code",
   "execution_count": 9,
   "metadata": {},
   "outputs": [],
   "source": []
  },
  {
   "cell_type": "code",
   "execution_count": 56,
   "metadata": {},
   "outputs": [],
   "source": [
    "#to get some significant difference in size of bubbles in the scatterplot\n",
    "#I am using size of the bubble to be a function of number of posts made by the particular username\n",
    "\n",
    "count_bubble_size=[500*num for num in count_posts]"
   ]
  },
  {
   "cell_type": "code",
   "execution_count": null,
   "metadata": {},
   "outputs": [],
   "source": []
  },
  {
   "cell_type": "markdown",
   "metadata": {},
   "source": [
    "### Plotting a scatter plot to represent the information obtained"
   ]
  },
  {
   "cell_type": "code",
   "execution_count": null,
   "metadata": {},
   "outputs": [],
   "source": [
    "#to get some significant difference in size of bubbles in the scatterplot\n",
    "#I am using size of the bubble to be a function of number of posts made by the particular username\n",
    "\n",
    "count_bubble_size=[500*num for num in count_posts]"
   ]
  },
  {
   "cell_type": "code",
   "execution_count": 57,
   "metadata": {},
   "outputs": [
    {
     "data": {
      "image/png": "[encoded data removed]",
      "text/plain": [
       "<Figure size 936x576 with 1 Axes>"
      ]
     },
     "metadata": {
      "needs_background": "light"
     },
     "output_type": "display_data"
    }
   ],
   "source": [
    "import matplotlib.pyplot as plt\n",
    "\n",
    "plt.figure(figsize=(13,8))\n",
    "plt.scatter(top_5_profiles,top_5_follower_count,count_bubble_size,c=\"r\")\n",
    "plt.title(\"Page usernames vs No. of followers (with no. of posts as size of bubble - also mentioned within bubble)\",fontsize=16)\n",
    "plt.xlabel(\"Page usernames\",fontsize=20,c=\"g\")\n",
    "plt.ylabel(\"No. of followers\",fontsize=20,c=\"g\")\n",
    "for e in range(5):\n",
    "    plt.text(e,top_5_follower_count[e],format(count_posts[e],\".0f\"),fontsize=20)\n",
    "plt.tick_params(axis=\"both\",which=\"major\",labelsize=13)\n",
    "plt.show()\n"
   ]
  },
  {
   "cell_type": "code",
   "execution_count": null,
   "metadata": {},
   "outputs": [],
   "source": []
  },
  {
   "cell_type": "markdown",
   "metadata": {},
   "source": [
    "# TASK 2: Identifying most frequent hashtags"
   ]
  },
  {
   "cell_type": "code",
   "execution_count": null,
   "metadata": {},
   "outputs": [],
   "source": [
    "#Please go to home/feed before runing the cell below"
   ]
  },
  {
   "cell_type": "code",
   "execution_count": 58,
   "metadata": {},
   "outputs": [],
   "source": [
    "import re\n",
    "\n",
    "def collect_post_text(top_5_profiles):\n",
    "    allwords_list=[]\n",
    "    \n",
    "    for i in top_5_profiles:\n",
    "\n",
    "        #locating search box and clicking on it\n",
    "        search_box=driver.find_element_by_xpath(\"//div[@class='pbgfb Di7vw ']\")\n",
    "        search_box.click()\n",
    "\n",
    "        #activating the search boox sending username to the search box\n",
    "        search__input=driver.find_element_by_xpath(\"//input[@class='XTCLo x3qfX focus-visible']\")\n",
    "        search__input.send_keys(i)\n",
    "\n",
    "        time.sleep(3)\n",
    "        \n",
    "        \n",
    "        try:\n",
    "            href_link=\"//a[@href='/\"+i+\"/']\"\n",
    "\n",
    "            # opening desired profile \n",
    "            desired_profile=driver.find_element_by_xpath(href_link)\n",
    "            desired_profile.click()\n",
    "\n",
    "        except:\n",
    "            \n",
    "            #try clause fails in some cases for example:\"talesofourfood\"\n",
    "            #opening desired profile\n",
    "            desired_profile2=driver.find_element_by_class_name(\"z556c\")\n",
    "            desired_profile2.click()\n",
    "\n",
    "        time.sleep(3)\n",
    "        \n",
    "        #searching for the first post and opening it in slidshow mode by clicking on it\n",
    "    \n",
    "        open_post=driver.find_element_by_xpath(\"//div[@class='eLAPa']\")\n",
    "        open_post.click()\n",
    "        time.sleep(3)\n",
    "        \n",
    "        #iterating over first 10 posts by clicking on next button 9 times\n",
    "        count=0\n",
    "\n",
    "        while count<=9:\n",
    "            #scrape the text for words and their frequencies\n",
    "            \n",
    "            #locating text body for the post and converting into text\n",
    "            post_text=driver.find_element_by_class_name(\"C4VMK\").text\n",
    "            \n",
    "            # using regular expression for splitting the text using multiple delimiters\n",
    "            word_list=re.split(' |\\n|,',post_text)\n",
    "            \n",
    "            #extending the the main list of all words accross all post of 5 profiles \n",
    "            allwords_list.extend(word_list)\n",
    "\n",
    "            \n",
    "            count+=1\n",
    "            \n",
    "            next_button=driver.find_element_by_xpath(\"//a[@class=' _65Bje  coreSpriteRightPaginationArrow']\")\n",
    "            next_button.click()\n",
    "\n",
    "            time.sleep(3)\n",
    "        \n",
    "        #After seeing 10 posts particular username is stoped we search for  close button (cross mark) of slidhshoe mode and click on it\n",
    "        close_button=driver.find_element_by_xpath(\"//div[@class='                    Igw0E     IwRSH      eGOV_         _4EzTm                                                                                  BI4qX            qJPeX            fm1AK   TxciK yiMZG']\")\n",
    "        close_button.click()\n",
    "        \n",
    "        time.sleep(3)\n",
    "    \n",
    "    #returning the list all words used by all 5 profiles\n",
    "    return allwords_list"
   ]
  },
  {
   "cell_type": "code",
   "execution_count": 59,
   "metadata": {},
   "outputs": [],
   "source": [
    "# extracting all words normal text as well as hashtags from posts\n",
    "\n",
    "all_words=collect_post_text(top_5_profiles)"
   ]
  },
  {
   "cell_type": "code",
   "execution_count": 60,
   "metadata": {},
   "outputs": [],
   "source": [
    "# filtering out and making a list of hashtags only\n",
    "hashtags=[]\n",
    "for each_word in all_words:\n",
    "    if \"#\" in each_word:\n",
    "        hashtags.append(each_word)"
   ]
  },
  {
   "cell_type": "code",
   "execution_count": 61,
   "metadata": {},
   "outputs": [
    {
     "data": {
      "text/plain": [
       "#dilsefoodie        10\n",
       "#foodieincarnate     7\n",
       "#recipes             5\n",
       "#sanjyotkeer         5\n",
       "#foodie              5\n",
       "                    ..\n",
       "#mangoicecream       1\n",
       "#sushi               1\n",
       "#stayhome            1\n",
       "#cp                  1\n",
       "#foodgasm            1\n",
       "Length: 63, dtype: int64"
      ]
     },
     "execution_count": 61,
     "metadata": {},
     "output_type": "execute_result"
    }
   ],
   "source": [
    "# using pandas to get frequencies of hashtags used\n",
    "\n",
    "import pandas as pd\n",
    "words_dataframe=pd.Series(hashtags)\n",
    "sss=words_dataframe.value_counts()\n",
    "sss"
   ]
  },
  {
   "cell_type": "code",
   "execution_count": 62,
   "metadata": {},
   "outputs": [],
   "source": [
    "# Creating a Pandas Dataframe of hashtags and their frequencies which can be easily converted to csv files for documentation\n",
    "\n",
    "hashtag_words=sss.index\n",
    "hashtag_frequencies=sss.values\n",
    "\n",
    "df=pd.DataFrame(hashtag_words)\n",
    "df[\"Hashtags\"]=hashtag_words\n",
    "df[\"hashtag_frequencies\"]=hashtag_frequencies\n",
    "del df[0]"
   ]
  },
  {
   "cell_type": "code",
   "execution_count": 63,
   "metadata": {},
   "outputs": [
    {
     "data": {
      "text/html": [
       "<div>\n",
       "<style scoped>\n",
       "    .dataframe tbody tr th:only-of-type {\n",
       "        vertical-align: middle;\n",
       "    }\n",
       "\n",
       "    .dataframe tbody tr th {\n",
       "        vertical-align: top;\n",
       "    }\n",
       "\n",
       "    .dataframe thead th {\n",
       "        text-align: right;\n",
       "    }\n",
       "</style>\n",
       "<table border=\"1\" class=\"dataframe\">\n",
       "  <thead>\n",
       "    <tr style=\"text-align: right;\">\n",
       "      <th></th>\n",
       "      <th>Hashtags</th>\n",
       "      <th>hashtag_frequencies</th>\n",
       "    </tr>\n",
       "  </thead>\n",
       "  <tbody>\n",
       "    <tr>\n",
       "      <th>0</th>\n",
       "      <td>#dilsefoodie</td>\n",
       "      <td>10</td>\n",
       "    </tr>\n",
       "    <tr>\n",
       "      <th>1</th>\n",
       "      <td>#foodieincarnate</td>\n",
       "      <td>7</td>\n",
       "    </tr>\n",
       "    <tr>\n",
       "      <th>2</th>\n",
       "      <td>#recipes</td>\n",
       "      <td>5</td>\n",
       "    </tr>\n",
       "    <tr>\n",
       "      <th>3</th>\n",
       "      <td>#sanjyotkeer</td>\n",
       "      <td>5</td>\n",
       "    </tr>\n",
       "    <tr>\n",
       "      <th>4</th>\n",
       "      <td>#foodie</td>\n",
       "      <td>5</td>\n",
       "    </tr>\n",
       "    <tr>\n",
       "      <th>5</th>\n",
       "      <td>#foodporn</td>\n",
       "      <td>4</td>\n",
       "    </tr>\n",
       "    <tr>\n",
       "      <th>6</th>\n",
       "      <td>#MyYFLstory</td>\n",
       "      <td>3</td>\n",
       "    </tr>\n",
       "    <tr>\n",
       "      <th>7</th>\n",
       "      <td>#indiancuisine</td>\n",
       "      <td>3</td>\n",
       "    </tr>\n",
       "    <tr>\n",
       "      <th>8</th>\n",
       "      <td>#foodstagram</td>\n",
       "      <td>3</td>\n",
       "    </tr>\n",
       "    <tr>\n",
       "      <th>9</th>\n",
       "      <td>#food</td>\n",
       "      <td>3</td>\n",
       "    </tr>\n",
       "  </tbody>\n",
       "</table>\n",
       "</div>"
      ],
      "text/plain": [
       "           Hashtags  hashtag_frequencies\n",
       "0      #dilsefoodie                   10\n",
       "1  #foodieincarnate                    7\n",
       "2          #recipes                    5\n",
       "3      #sanjyotkeer                    5\n",
       "4           #foodie                    5\n",
       "5         #foodporn                    4\n",
       "6       #MyYFLstory                    3\n",
       "7    #indiancuisine                    3\n",
       "8      #foodstagram                    3\n",
       "9             #food                    3"
      ]
     },
     "execution_count": 63,
     "metadata": {},
     "output_type": "execute_result"
    }
   ],
   "source": [
    "df.head(10)"
   ]
  },
  {
   "cell_type": "code",
   "execution_count": 64,
   "metadata": {},
   "outputs": [
    {
     "data": {
      "image/png": "[encoded data removed]",
      "text/plain": [
       "<Figure size 576x576 with 1 Axes>"
      ]
     },
     "metadata": {},
     "output_type": "display_data"
    }
   ],
   "source": [
    "# Ploting the pie chart\n",
    "\n",
    "sizes=sss.values[:5]\n",
    "# print(sizes)\n",
    "labels=sss.index[:5]\n",
    "\n",
    "plt.figure(figsize=(8,8))\n",
    "\n",
    "def func(pct, allvals):\n",
    "    absolute = int(pct/100.*sum(allvals))\n",
    "    return \"{:.1f}%\\n({:d} times)\".format(pct, absolute)\n",
    "\n",
    "\n",
    "plt.title(\"5 Most used Hashtags\")\n",
    "plt.pie(sizes,labels=labels,autopct=lambda pct: func(pct, sizes))\n",
    "plt.rcParams['font.size'] = 20\n",
    "\n",
    "plt.show()"
   ]
  },
  {
   "cell_type": "markdown",
   "metadata": {},
   "source": [
    "# Task 3: calculate average followers : likes ratio for the obtained handles.\n",
    "\n",
    "## Followers : Likes ratio is calculated as follows:\n",
    "### 1. Find out the likes of the top 10 posts of the 5 handles obtained earlier.\n",
    "### 2. Calculate the average likes for a handle.\n",
    "### 3. Divide the average likes obtained from the number of followers of the handle to get the average    followers:like ratio of each handle.\n",
    "### 4. Create a bar graph to depict the above obtained information."
   ]
  },
  {
   "cell_type": "code",
   "execution_count": 30,
   "metadata": {},
   "outputs": [],
   "source": []
  },
  {
   "cell_type": "code",
   "execution_count": 65,
   "metadata": {},
   "outputs": [],
   "source": [
    "import time\n",
    "def find_average_likes(top_5_profiles):\n",
    "    average_likes=[]\n",
    "    \n",
    "    for i in top_5_profiles:\n",
    "\n",
    "        #locating search box and clicking on it\n",
    "        search_box=driver.find_element_by_xpath(\"//div[@class='pbgfb Di7vw ']\")\n",
    "        search_box.click()\n",
    "\n",
    "        #activating the search boox sending username to the search box\n",
    "        search__input=driver.find_element_by_xpath(\"//input[@class='XTCLo x3qfX focus-visible']\")\n",
    "        search__input.send_keys(i)\n",
    "\n",
    "        time.sleep(3)\n",
    "        \n",
    "        \n",
    "        try:\n",
    "            href_link=\"//a[@href='/\"+i+\"/']\"\n",
    "\n",
    "            # opening desired profile \n",
    "            desired_profile=driver.find_element_by_xpath(href_link)\n",
    "            desired_profile.click()\n",
    "\n",
    "        except:\n",
    "            \n",
    "            #try clause fails in some cases for example:\"talesofourfood\"\n",
    "            #opening desired profile\n",
    "            desired_profile2=driver.find_element_by_class_name(\"z556c\")\n",
    "            desired_profile2.click()\n",
    "\n",
    "        time.sleep(3)\n",
    "        \n",
    "        #searching for the first post and opening it in slidshow mode by clicking on it\n",
    "    \n",
    "        open_post=driver.find_element_by_xpath(\"//div[@class='eLAPa']\")\n",
    "        open_post.click()\n",
    "        time.sleep(3)\n",
    "        \n",
    "        #initializing count of post for each username to \"0\"\n",
    "        count=0\n",
    "        total_likes=0\n",
    "        while count<=9:\n",
    "            \n",
    "            try:\n",
    "                post_engagement_button=driver.find_element_by_xpath(\"//div[@class='Nm9Fw']\")\n",
    "                \n",
    "                #to handle cases which gives num of likes directly (in the form  \" *num* likes\")\n",
    "                if \"like\" in post_engagement_button.text:\n",
    "                    #extracting text from html and then cleaning to get num of likes\n",
    "                    text=post_engagement_button.text\n",
    "                    num=text.split(\" \")[0]\n",
    "                    int_num=int(num.replace(\",\",\"\"))\n",
    "                    print(int_num)\n",
    "                    total_likes+=int_num\n",
    "                #to handle cases which gives the data in the form  \" Liked by *username and *num* others \n",
    "                elif \"Liked\" in post_engagement_button.text:\n",
    "                    #extracting text from html and then cleaning to get num of likes\n",
    "                    likes_button=post_engagement_button.text\n",
    "                    list_text=likes_button.split(\" \")\n",
    "                    num=list_text[-2][1:]\n",
    "                    int_num=int(num.replace(\",\",\"\"))+1\n",
    "                    print(int_num)\n",
    "                    total_likes+=int_num\n",
    "                \n",
    "            #To handle cases where post is a video and thus it shows num of views rather than likes\n",
    "            except:\n",
    "                \n",
    "                #finding the views button and then clicking on it to see num of likes\n",
    "                post_engagement_button=driver.find_element_by_xpath(\"//span[@class='vcOH2']\")\n",
    "                post_engagement_button.click()\n",
    "                \n",
    "                #findingthe likes data and extracting text from it\n",
    "                post_likes_button=driver.find_element_by_xpath(\"//div[@class='vJRqr']\")\n",
    "                text=post_likes_button.text\n",
    "\n",
    "                num=text.split(\" \")[0]\n",
    "                int_num=int(num.replace(\",\",\"\"))\n",
    "                print(int_num)\n",
    "                total_likes+=int_num\n",
    "                \n",
    "                post_engagement_button=driver.find_element_by_xpath(\"//div[@class='QhbhU']\")\n",
    "                post_engagement_button.click()\n",
    "    \n",
    "    \n",
    "    \n",
    "    \n",
    "            time.sleep(3)\n",
    "            \n",
    "            #searching for next button in slideshow view and clicking on it\n",
    "            next_button=driver.find_element_by_xpath(\"//a[@class=' _65Bje  coreSpriteRightPaginationArrow']\")\n",
    "            next_button.click()\n",
    "            count+=1\n",
    "\n",
    "            time.sleep(3)\n",
    "        \n",
    "        # adding averge likes for this profile to the list\n",
    "        average_likes.append(total_likes/10)\n",
    "        print(\"Total likes for\",i,\"=\",total_likes)\n",
    "        print(\"average likes for\",i,\"=\",total_likes/10)\n",
    "        \n",
    "        #After counting for a particular username is stoped we search for  close button (cross mark) of slidhshoe mode and click on it\n",
    "        close_button=driver.find_element_by_xpath(\"//div[@class='                    Igw0E     IwRSH      eGOV_         _4EzTm                                                                                  BI4qX            qJPeX            fm1AK   TxciK yiMZG']\")\n",
    "        close_button.click()                                    \n",
    "        \n",
    "        time.sleep(3)\n",
    "    \n",
    "    #returning average likes in the same order as the username supplied\n",
    "    return average_likes"
   ]
  },
  {
   "cell_type": "code",
   "execution_count": 66,
   "metadata": {},
   "outputs": [
    {
     "name": "stdout",
     "output_type": "stream",
     "text": [
      "5369\n",
      "3661\n",
      "5103\n",
      "12288\n",
      "5930\n",
      "3912\n",
      "6742\n",
      "2967\n",
      "5189\n",
      "7845\n",
      "Total likes for buzzfeedfood = 59006\n",
      "average likes for buzzfeedfood = 5900.6\n",
      "35991\n",
      "21590\n",
      "5981\n",
      "30177\n",
      "43599\n",
      "26437\n",
      "34596\n",
      "25720\n",
      "40158\n",
      "5656\n",
      "Total likes for yourfoodlab = 269905\n",
      "average likes for yourfoodlab = 26990.5\n",
      "4858\n",
      "11316\n",
      "6304\n",
      "6021\n",
      "6813\n",
      "9240\n",
      "7764\n",
      "8713\n",
      "8024\n",
      "11166\n",
      "Total likes for dilsefoodie = 80219\n",
      "average likes for dilsefoodie = 8021.9\n",
      "278\n",
      "142\n",
      "649\n",
      "2521\n",
      "475\n",
      "268\n",
      "1156\n",
      "297\n",
      "169\n",
      "342\n",
      "Total likes for foodtalkindia = 6297\n",
      "average likes for foodtalkindia = 629.7\n",
      "2624\n",
      "4650\n",
      "2754\n",
      "1584\n",
      "3965\n",
      "4306\n",
      "4396\n",
      "6053\n",
      "3714\n",
      "10449\n",
      "Total likes for foodie_incarnate = 44495\n",
      "average likes for foodie_incarnate = 4449.5\n"
     ]
    }
   ],
   "source": [
    "average_likes_list=average_likes_list=find_average_likes(top_5_profiles)"
   ]
  },
  {
   "cell_type": "code",
   "execution_count": 100,
   "metadata": {},
   "outputs": [],
   "source": []
  },
  {
   "cell_type": "code",
   "execution_count": 68,
   "metadata": {},
   "outputs": [],
   "source": [
    "# Creating a list of ratios corresponding to top 5 usernames\n",
    "ratio_follower_to_likes=[]\n",
    "for indivi in range(5):\n",
    "    ratio=top_5_follower_count[indivi]/average_likes_list[indivi]\n",
    "    ratio_follower_to_likes.append(ratio)\n",
    "# print(ratio_follower_to_likes)"
   ]
  },
  {
   "cell_type": "code",
   "execution_count": 69,
   "metadata": {},
   "outputs": [
    {
     "data": {
      "text/plain": [
       "<function matplotlib.pyplot.show(*args, **kw)>"
      ]
     },
     "execution_count": 69,
     "metadata": {},
     "output_type": "execute_result"
    },
    {
     "data": {
      "image/png": "[encoded data removed]",
      "text/plain": [
       "<Figure size 720x504 with 1 Axes>"
      ]
     },
     "metadata": {
      "needs_background": "light"
     },
     "output_type": "display_data"
    }
   ],
   "source": [
    "# Plotting bar graph using matplotlib\n",
    "\n",
    "import matplotlib.pyplot as plt\n",
    "plt.figure(figsize=(10,7))\n",
    "plt.title(\"Ratio of followers to average likes\",fontsize=18,c=\"r\")\n",
    "plt.bar(top_5_profiles,ratio_follower_to_likes)\n",
    "plt.xticks(rotation=45)\n",
    "plt.xlabel(\"Usernames\",fontsize=16,c=\"g\")\n",
    "plt.ylabel(\"Ratio ------->\",fontsize=16,c=\"g\")\n",
    "plt.show"
   ]
  },
  {
   "cell_type": "code",
   "execution_count": null,
   "metadata": {},
   "outputs": [],
   "source": []
  },
  {
   "cell_type": "code",
   "execution_count": null,
   "metadata": {},
   "outputs": [],
   "source": []
  },
  {
   "cell_type": "code",
   "execution_count": null,
   "metadata": {},
   "outputs": [],
   "source": []
  }
 ],
 "metadata": {
  "kernelspec": {
   "display_name": "Python 3",
   "language": "python",
   "name": "python3"
  },
  "language_info": {
   "codemirror_mode": {
    "name": "ipython",
    "version": 3
   },
   "file_extension": ".py",
   "mimetype": "text/x-python",
   "name": "python",
   "nbconvert_exporter": "python",
   "pygments_lexer": "ipython3",
   "version": "3.7.6"
  }
 },
 "nbformat": 4,
 "nbformat_minor": 4
}
